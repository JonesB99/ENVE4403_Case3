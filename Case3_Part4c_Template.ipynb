{
 "cells": [
  {
   "cell_type": "code",
   "execution_count": null,
   "metadata": {},
   "outputs": [],
   "source": [
    "import xarray as xr\n",
    "import numpy as np\n",
    "import matplotlib.pyplot as plt"
   ]
  },
  {
   "attachments": {},
   "cell_type": "markdown",
   "metadata": {},
   "source": [
    "# Streamplots in xarray\n",
    "\n",
    "In xarray, we can use the [streamplot](http://xarray.pydata.org/en/stable/generated/xarray.plot.streamplot.html) function to plot streamlines of a vector field. In our case, the vector is the turbulent velocity field defined in the x direction for example as:\n",
    "$$\n",
    "u' =  u - \\bar{u}\n",
    "$$\n",
    "\n",
    "where $u$ is the instantaneous velocity and $\\bar{u}$ is the time-averaged velocity.\n",
    "\n",
    "To use xarrays streamplot, you need to pick a timestep t first:\n",
    "    \n",
    "    ```\n",
    "    ds.isel(Time=t)\n",
    "    ```\n",
    "Then you can plot the streamplot using:\n",
    "\n",
    "    ```\n",
    "    ds.isel(Time=t).plot.streamplot(x='X', y='Z', u=A, v=B)\n",
    "    ```\n",
    "where A and B are the labels you have given to the x and z components of the turbulent velocity field. A and B must be strings (i.e. in quotes).\n",
    "\n",
    "You will need to change the timestep t to see the streamlines at different times (and see if there is evidence of KH billows)."
   ]
  },
  {
   "cell_type": "code",
   "execution_count": null,
   "metadata": {},
   "outputs": [],
   "source": [
    "### Read in the dataset\n",
    "\n",
    "### Calculate the turbulent velocity field\n",
    "\n",
    "### Plot the turbulent velocity field\n",
    "\n",
    "### Save the figure\n",
    "plt.savefig('Case3_Part4c.png',dpi=300)"
   ]
  }
 ],
 "metadata": {
  "language_info": {
   "name": "python"
  },
  "orig_nbformat": 4
 },
 "nbformat": 4,
 "nbformat_minor": 2
}
