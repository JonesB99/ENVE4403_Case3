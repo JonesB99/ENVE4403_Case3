{
 "cells": [
  {
   "cell_type": "code",
   "execution_count": 1,
   "metadata": {},
   "outputs": [],
   "source": [
    "import xarray as xr\n",
    "import numpy as np\n",
    "import matplotlib.pyplot as plt\n",
    "from scipy import signal"
   ]
  },
  {
   "cell_type": "code",
   "execution_count": null,
   "metadata": {},
   "outputs": [],
   "source": [
    "### You need to run this cell for python to know what this function is.\n",
    "def spectra(velocity_record,time_step):\n",
    "    '''\n",
    "    velocity_record: Array of velocities as a function of time\n",
    "    time_step: Time step between each velocity measurement (in seconds)\n",
    "    '''\n",
    "    f, Pxx = signal.welch(velocity_record, fs=1/time_step,nperseg=2048,detrend='linear',scaling='density')\n",
    "    return f,Pxx"
   ]
  },
  {
   "cell_type": "code",
   "execution_count": null,
   "metadata": {},
   "outputs": [],
   "source": [
    "## Here is a template for plotting \"spectra\" of the velocity record from the lab data. Note that the axes are now in log-log space!\n",
    "fig,axes = plt.subplots()\n",
    "\n",
    "velocity_record =  # You need to fill this in\n",
    "time_step =  # You need to fill this in\n",
    "\n",
    "f,Pxx = spectra(velocity_record,time_step)\n",
    "\n",
    "axes.loglog(f,Pxx)\n",
    "axes.set_xlabel('Frequency (Hz)')\n",
    "axes.set_ylabel('Power Spectral Density (m^2/s^2/Hz)')"
   ]
  }
 ],
 "metadata": {
  "kernelspec": {
   "display_name": "work3",
   "language": "python",
   "name": "python3"
  },
  "language_info": {
   "codemirror_mode": {
    "name": "ipython",
    "version": 3
   },
   "file_extension": ".py",
   "mimetype": "text/x-python",
   "name": "python",
   "nbconvert_exporter": "python",
   "pygments_lexer": "ipython3",
   "version": "3.10.5"
  },
  "orig_nbformat": 4
 },
 "nbformat": 4,
 "nbformat_minor": 2
}
